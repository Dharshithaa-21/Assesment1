{
 "cells": [
  {
   "cell_type": "raw",
   "id": "172f157f-103b-414a-aa39-56ecdabfa3b9",
   "metadata": {},
   "source": [
    "Exercise 2: Create a markdown cell with the title of the notebook (1 pt)"
   ]
  },
  {
   "cell_type": "code",
   "execution_count": 1,
   "id": "d338ab99-3314-43b5-a202-8d34a4d1364e",
   "metadata": {},
   "outputs": [],
   "source": [
    " # Assesment - 1"
   ]
  },
  {
   "cell_type": "raw",
   "id": "fc8b7b32-b7ee-49fa-bf81-dd59a36e308c",
   "metadata": {},
   "source": [
    "Exercise 3: Create a markdown cell for an introduction (1 pt)"
   ]
  },
  {
   "cell_type": "code",
   "execution_count": 4,
   "id": "09f34b1e-975e-488b-8a99-b65d02f9475c",
   "metadata": {},
   "outputs": [],
   "source": [
    "# Introduction \n",
    "This notebook provides an overview of data science languages, libraries, and tools, along with practical examples."
   ]
  },
  {
   "cell_type": "code",
   "execution_count": null,
   "id": "6a152965-64f2-464e-9fe4-266ec770dd10",
   "metadata": {},
   "outputs": [],
   "source": [
    "Exercise 4: Create a markdown cell to list data science languages (3 pts)"
   ]
  },
  {
   "cell_type": "code",
   "execution_count": 6,
   "id": "63864b07-ab9d-4a2d-bcef-b0d3a2b8e77c",
   "metadata": {},
   "outputs": [],
   "source": [
    "## Data Science Languages\n",
    " - Python\n",
    " - R\n",
    " - SQL\n",
    " - Scala"
   ]
  },
  {
   "cell_type": "code",
   "execution_count": null,
   "id": "d89a3866-1085-49a4-9ea0-7bf0857fbd12",
   "metadata": {},
   "outputs": [],
   "source": [
    "Exercise 5: Create a markdown cell to list data science libraries (3 pts)"
   ]
  },
  {
   "cell_type": "code",
   "execution_count": null,
   "id": "5b40d84a-2e43-4074-9c78-1934b5428e23",
   "metadata": {},
   "outputs": [],
   "source": [
    "## Data Science Libraries\n",
    "- Pandas\n",
    "- NumPy\n",
    "- Scikit-learn\n",
    "- TensorFlow\n",
    "- Keras"
   ]
  },
  {
   "cell_type": "code",
   "execution_count": null,
   "id": "ea8e5781-6cf7-4c31-ba55-44b779ff5f9a",
   "metadata": {},
   "outputs": [],
   "source": [
    "Exercise 6: Create a markdown cell with a table of Data Science tools (3 pts)"
   ]
  },
  {
   "cell_type": "code",
   "execution_count": null,
   "id": "fbc334e2-4417-4309-8c99-6ce6b0233b2e",
   "metadata": {},
   "outputs": [],
   "source": [
    "## Data Science Tools\n",
    "| Tool          | Description                               |\n",
    "|------------- -|-------------------------------------------|\n",
    "| Jupyter       | Interactive computing environment         |\n",
    "| GitHub        | Code repository and version control       |\n",
    "| Google Colab  | Cloud-based Jupyter notebook              |\n",
    "| RStudio       | IDE for R programming                     |\n",
    "| Tableau       | Data visualization software               |"
   ]
  },
  {
   "cell_type": "code",
   "execution_count": null,
   "id": "91060298-d0fb-4c72-9f4e-c6ad218195db",
   "metadata": {},
   "outputs": [],
   "source": [
    "Exercise 7: Create a markdown cell introducing arithmetic expression examples (1 pt)"
   ]
  },
  {
   "cell_type": "code",
   "execution_count": null,
   "id": "7dd81ca4-ddbd-4efa-a683-b21001400e86",
   "metadata": {},
   "outputs": [],
   "source": [
    "## Arithmetic Expressions\n",
    "Below are examples of simple arithmetic operations."
   ]
  },
  {
   "cell_type": "code",
   "execution_count": null,
   "id": "9486b757-7bc4-4921-95b1-7ad1bee89387",
   "metadata": {},
   "outputs": [],
   "source": [
    "Exercise 8: Create a code cell to multiply and add numbers (2 pts"
   ]
  },
  {
   "cell_type": "code",
   "execution_count": 8,
   "id": "1d51b75c-1f57-4447-9703-195b8c422b20",
   "metadata": {},
   "outputs": [
    {
     "data": {
      "text/plain": [
       "(50, 15)"
      ]
     },
     "execution_count": 8,
     "metadata": {},
     "output_type": "execute_result"
    }
   ],
   "source": [
    "# Example of arithmetic operations\n",
    "a = 5\n",
    "b = 10\n",
    "product = a * b\n",
    "sum_result = a + b\n",
    "product, sum_result"
   ]
  },
  {
   "cell_type": "code",
   "execution_count": null,
   "id": "0e23d4af-27e1-46e7-8d7b-48f481dab59b",
   "metadata": {},
   "outputs": [],
   "source": [
    "Exercise 9: Create a code cell to convert minutes to hours (2 pts)"
   ]
  },
  {
   "cell_type": "code",
   "execution_count": 10,
   "id": "ceb713a1-8007-4eaa-84fc-6d98b9afef66",
   "metadata": {},
   "outputs": [
    {
     "data": {
      "text/plain": [
       "2.0"
      ]
     },
     "execution_count": 10,
     "metadata": {},
     "output_type": "execute_result"
    }
   ],
   "source": [
    "# Convert minutes to hours\n",
    "minutes = 120\n",
    "hours = minutes / 60\n",
    "hours"
   ]
  },
  {
   "cell_type": "code",
   "execution_count": null,
   "id": "992f7f8f-9cf0-47e9-93ee-afa4fb560613",
   "metadata": {},
   "outputs": [],
   "source": [
    "Exercise 10: Insert a markdown cell to list Objectives (3 pts)"
   ]
  },
  {
   "cell_type": "code",
   "execution_count": null,
   "id": "99c9a418-9036-4217-8db6-ae39c9428653",
   "metadata": {},
   "outputs": [],
   "source": [
    "## Objectives\n",
    "- Understand basic data science languages and libraries.\n",
    "- Learn how to use key data science tools.\n",
    "- Perform simple arithmetic operations in Python.\n",
    "- Convert units using Python code."
   ]
  },
  {
   "cell_type": "code",
   "execution_count": null,
   "id": "3e19987d-c1bc-4a62-8188-a187817a44c5",
   "metadata": {},
   "outputs": [],
   "source": [
    "Exercise 11: Create a markdown cell to indicate the Author’s name (2 pts)"
   ]
  },
  {
   "cell_type": "code",
   "execution_count": null,
   "id": "996b5de5-7214-465f-b74b-b3042ef7777c",
   "metadata": {},
   "outputs": [],
   "source": [
    "## Author\n",
    "- Dharshithaa K"
   ]
  }
 ],
 "metadata": {
  "kernelspec": {
   "display_name": "Python 3 (ipykernel)",
   "language": "python",
   "name": "python3"
  },
  "language_info": {
   "codemirror_mode": {
    "name": "ipython",
    "version": 3
   },
   "file_extension": ".py",
   "mimetype": "text/x-python",
   "name": "python",
   "nbconvert_exporter": "python",
   "pygments_lexer": "ipython3",
   "version": "3.12.4"
  }
 },
 "nbformat": 4,
 "nbformat_minor": 5
}
